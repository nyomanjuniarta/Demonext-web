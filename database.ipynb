{
 "cells": [
  {
   "cell_type": "markdown",
   "id": "c722fd33",
   "metadata": {},
   "source": [
    "# MongoDB"
   ]
  },
  {
   "cell_type": "code",
   "execution_count": 1,
   "id": "50a4823a",
   "metadata": {},
   "outputs": [],
   "source": [
    "import sys\n",
    "sys.path.append('F:\\Kontiki\\jupyter_webapp_env\\Lib\\site-packages')\n",
    "import pymongo"
   ]
  },
  {
   "cell_type": "code",
   "execution_count": 2,
   "id": "35f56177",
   "metadata": {},
   "outputs": [
    {
     "data": {
      "text/plain": [
       "['admin', 'config', 'local', 'mylai', 'nyoman']"
      ]
     },
     "execution_count": 2,
     "metadata": {},
     "output_type": "execute_result"
    }
   ],
   "source": [
    "myclient = pymongo.MongoClient('mongodb://localhost:27017/')\n",
    "myclient.list_database_names()"
   ]
  },
  {
   "cell_type": "code",
   "execution_count": 3,
   "id": "3a01287f",
   "metadata": {},
   "outputs": [
    {
     "data": {
      "text/plain": [
       "['response_falsederiv', 'posts']"
      ]
     },
     "execution_count": 3,
     "metadata": {},
     "output_type": "execute_result"
    }
   ],
   "source": [
    "mydb = myclient['nyoman']\n",
    "mydb.list_collection_names()"
   ]
  },
  {
   "cell_type": "code",
   "execution_count": 4,
   "id": "58ecd445",
   "metadata": {},
   "outputs": [],
   "source": [
    "col_response_false_deriv = mydb['response_falsederiv']"
   ]
  },
  {
   "cell_type": "code",
   "execution_count": 6,
   "id": "200d0060",
   "metadata": {},
   "outputs": [
    {
     "name": "stdout",
     "output_type": "stream",
     "text": [
      "{'_id': ObjectId('61bf365dbc586acb8bdbe5af'), 'concept1': 'F04773-00', 'concept2': 'F03806', 'date': '2021-12-17 11:27:28', 'action': 'Delete', 'comment': 'hapus chiraquien'}\n",
      "{'_id': ObjectId('61bf3b42c84ce44202fabe53'), 'concept1': 'F04847-000', 'concept2': 'F03333', 'date': '2021-12-19 15:01:38', 'action': 'Delete', 'comment': 'hapus anti pederas'}\n",
      "{'_id': ObjectId('61bf3b4ac84ce44202fabe54'), 'concept1': 'F04847-000', 'concept2': 'F03564', 'date': '2021-12-19 15:01:46', 'action': 'Other', 'comment': 'i dont know'}\n",
      "{'_id': ObjectId('61bf3b7bc84ce44202fabe55'), 'concept1': 'F04847-000', 'concept2': 'F03195', 'date': '2021-12-19 15:02:35', 'action': 'None', 'comment': ''}\n",
      "{'_id': ObjectId('61bf3edefd9b63f8711ac21a'), 'concept1': 'F04832-00', 'concept2': 'F04759-09', 'date': '2021-12-19 15:17:02', 'action': 'Delete', 'comment': ''}\n"
     ]
    }
   ],
   "source": [
    "for x in col_response_false_deriv.find():\n",
    "    print(x) "
   ]
  },
  {
   "cell_type": "code",
   "execution_count": 8,
   "id": "7f5d32a5",
   "metadata": {},
   "outputs": [
    {
     "data": {
      "text/plain": [
       "{'_id': ObjectId('61bf365dbc586acb8bdbe5af'),\n",
       " 'concept1': 'F04773-00',\n",
       " 'concept2': 'F03806',\n",
       " 'date': '2021-12-17 11:27:28',\n",
       " 'action': 'Delete',\n",
       " 'comment': 'hapus chiraquien'}"
      ]
     },
     "execution_count": 8,
     "metadata": {},
     "output_type": "execute_result"
    }
   ],
   "source": [
    "col_response_false_deriv.find_one()"
   ]
  },
  {
   "cell_type": "markdown",
   "id": "ab2c86b5",
   "metadata": {},
   "source": [
    "# MySQL"
   ]
  },
  {
   "cell_type": "code",
   "execution_count": null,
   "id": "5c0348a8",
   "metadata": {},
   "outputs": [],
   "source": [
    "import mysql.connector"
   ]
  },
  {
   "cell_type": "code",
   "execution_count": null,
   "id": "183f3ed0",
   "metadata": {},
   "outputs": [],
   "source": [
    "mydb = mysql.connector.connect(\n",
    "  host=\"localhost\",\n",
    "  user=\"root\",\n",
    "  password=\"\"\n",
    ")\n",
    "\n",
    "print(mydb)"
   ]
  },
  {
   "cell_type": "code",
   "execution_count": null,
   "id": "ae194d4e",
   "metadata": {},
   "outputs": [],
   "source": [
    "mycursor = mydb.cursor()\n",
    "mycursor.execute(\"CREATE DATABASE response\")"
   ]
  },
  {
   "cell_type": "code",
   "execution_count": null,
   "id": "d3f46ba0",
   "metadata": {},
   "outputs": [],
   "source": [
    "mycursor.execute(\"drop database response\")"
   ]
  }
 ],
 "metadata": {
  "kernelspec": {
   "display_name": "Python 3 (ipykernel)",
   "language": "python",
   "name": "python3"
  },
  "language_info": {
   "codemirror_mode": {
    "name": "ipython",
    "version": 3
   },
   "file_extension": ".py",
   "mimetype": "text/x-python",
   "name": "python",
   "nbconvert_exporter": "python",
   "pygments_lexer": "ipython3",
   "version": "3.8.10"
  }
 },
 "nbformat": 4,
 "nbformat_minor": 5
}
