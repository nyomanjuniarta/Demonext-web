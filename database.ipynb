{
 "cells": [
  {
   "cell_type": "markdown",
   "id": "c722fd33",
   "metadata": {},
   "source": [
    "# MongoDB"
   ]
  },
  {
   "cell_type": "code",
   "execution_count": null,
   "id": "50a4823a",
   "metadata": {},
   "outputs": [],
   "source": [
    "import sys\n",
    "sys.path.append('F:\\Kontiki\\jupyter_webapp_env\\Lib\\site-packages')\n",
    "import pymongo"
   ]
  },
  {
   "cell_type": "code",
   "execution_count": null,
   "id": "6c8ebe1b",
   "metadata": {},
   "outputs": [],
   "source": [
    "myclient = pymongo.MongoClient('mongodb://localhost:27017/')\n",
    "myclient.list_database_names()"
   ]
  },
  {
   "cell_type": "code",
   "execution_count": null,
   "id": "de67881d",
   "metadata": {},
   "outputs": [],
   "source": [
    "mydb = myclient['nyoman']\n",
    "mydb.list_collection_names()"
   ]
  },
  {
   "cell_type": "code",
   "execution_count": null,
   "id": "15dfb612",
   "metadata": {},
   "outputs": [],
   "source": [
    "col_response_false_deriv = mydb['response_falsederiv']"
   ]
  },
  {
   "cell_type": "code",
   "execution_count": null,
   "id": "56fff086",
   "metadata": {},
   "outputs": [],
   "source": [
    "for x in col_response_false_deriv.find():\n",
    "    print(x) "
   ]
  },
  {
   "cell_type": "markdown",
   "id": "ab2c86b5",
   "metadata": {},
   "source": [
    "# MySQL"
   ]
  },
  {
   "cell_type": "code",
   "execution_count": null,
   "id": "5c0348a8",
   "metadata": {},
   "outputs": [],
   "source": [
    "import mysql.connector"
   ]
  },
  {
   "cell_type": "code",
   "execution_count": null,
   "id": "183f3ed0",
   "metadata": {},
   "outputs": [],
   "source": [
    "mydb = mysql.connector.connect(\n",
    "  host=\"localhost\",\n",
    "  user=\"root\",\n",
    "  password=\"\"\n",
    ")\n",
    "\n",
    "print(mydb)"
   ]
  },
  {
   "cell_type": "code",
   "execution_count": null,
   "id": "ae194d4e",
   "metadata": {},
   "outputs": [],
   "source": [
    "mycursor = mydb.cursor()\n",
    "mycursor.execute(\"CREATE DATABASE response\")"
   ]
  },
  {
   "cell_type": "code",
   "execution_count": null,
   "id": "d3f46ba0",
   "metadata": {},
   "outputs": [],
   "source": [
    "mycursor.execute(\"drop database response\")"
   ]
  }
 ],
 "metadata": {
  "kernelspec": {
   "display_name": "Python 3 (ipykernel)",
   "language": "python",
   "name": "python3"
  },
  "language_info": {
   "codemirror_mode": {
    "name": "ipython",
    "version": 3
   },
   "file_extension": ".py",
   "mimetype": "text/x-python",
   "name": "python",
   "nbconvert_exporter": "python",
   "pygments_lexer": "ipython3",
   "version": "3.8.10"
  }
 },
 "nbformat": 4,
 "nbformat_minor": 5
}
