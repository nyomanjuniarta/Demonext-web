{
 "cells": [
  {
   "cell_type": "code",
   "execution_count": null,
   "id": "582694be",
   "metadata": {},
   "outputs": [],
   "source": [
    "import sys\n",
    "sys.path.append(\"F:\\Kontiki\\jupyter_webapp_env\\Lib\\site-packages\")"
   ]
  },
  {
   "cell_type": "code",
   "execution_count": 2,
   "id": "75d22a4f",
   "metadata": {},
   "outputs": [],
   "source": [
    "#import pymongo\n",
    "import warnings\n",
    "warnings.filterwarnings('ignore')\n",
    "import codecs\n",
    "import base64\n",
    "import hashlib\n",
    "import io\n",
    "import ipywidgets as widgets\n",
    "import pandas as pd\n",
    "import time\n",
    "from datetime import datetime\n",
    "from os.path import isfile, join\n",
    "from IPython.display import HTML, display, clear_output"
   ]
  },
  {
   "cell_type": "code",
   "execution_count": 3,
   "id": "edda7293",
   "metadata": {},
   "outputs": [
    {
     "data": {
      "application/vnd.jupyter.widget-view+json": {
       "model_id": "976a14f80b42410aa5602d8ff10cb96c",
       "version_major": 2,
       "version_minor": 0
      },
      "text/plain": [
       "Button(description='go', layout=Layout(width='50px'), style=ButtonStyle())"
      ]
     },
     "metadata": {},
     "output_type": "display_data"
    }
   ],
   "source": [
    "goto_number_button = widgets.Button(description='go', layout=widgets.Layout(width='50px'))\n",
    "display(goto_number_button)"
   ]
  },
  {
   "cell_type": "code",
   "execution_count": null,
   "id": "65d3a8c0",
   "metadata": {},
   "outputs": [],
   "source": []
  }
 ],
 "metadata": {
  "kernelspec": {
   "display_name": "Python 3 (ipykernel)",
   "language": "python",
   "name": "python3"
  },
  "language_info": {
   "codemirror_mode": {
    "name": "ipython",
    "version": 3
   },
   "file_extension": ".py",
   "mimetype": "text/x-python",
   "name": "python",
   "nbconvert_exporter": "python",
   "pygments_lexer": "ipython3",
   "version": "3.8.10"
  }
 },
 "nbformat": 4,
 "nbformat_minor": 5
}
