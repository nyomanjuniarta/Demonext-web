{
 "cells": [
  {
   "cell_type": "code",
   "execution_count": null,
   "id": "ac7221e7",
   "metadata": {},
   "outputs": [],
   "source": [
    "#!jupyter nbextension enable --py widgetsnbextension --sys-prefix\n",
    "#!jupyter serverextension enable voila --sys-prefix"
   ]
  },
  {
   "cell_type": "code",
   "execution_count": 1,
   "id": "4aa728ef",
   "metadata": {},
   "outputs": [],
   "source": [
    "import warnings\n",
    "warnings.filterwarnings('ignore')\n",
    "import codecs\n",
    "import base64\n",
    "import hashlib\n",
    "import ipywidgets as widgets\n",
    "import pandas as pd\n",
    "import time\n",
    "from typing import Callable\n",
    "from os.path import isfile, join\n",
    "from IPython.display import HTML, display, clear_output"
   ]
  },
  {
   "cell_type": "code",
   "execution_count": 2,
   "id": "d79b8dc6",
   "metadata": {},
   "outputs": [],
   "source": [
    "output = widgets.Output()\n",
    "df = pd.read_excel('spurious_freq_0.xlsx')\n",
    "list1 = df['parent'].str.replace('.dot', '.png')\n",
    "list2 = df['parent'].str.split().str.get(0).str.cat(['-'] * df.shape[0]).str.cat(df['child'].str.split().str.get(0)).str.cat(['.png'] * df.shape[0])\n",
    "list2_title = df['child'].str.replace('.dot', '.png')\n",
    "model_folder = 'graph_visualization'\n",
    "spurious_folder = 'spurious'\n",
    "counter = 0"
   ]
  },
  {
   "cell_type": "code",
   "execution_count": 3,
   "id": "e31bf7f6",
   "metadata": {},
   "outputs": [],
   "source": [
    "green_box_layout = widgets.Layout()\n",
    "green_box_layout.width = '50 px'\n",
    "green_box_layout.height = '100 px'\n",
    "green_box_layout.border = '2px solid'\n",
    "\n",
    "def on_button_next_clicked(event):\n",
    "    global counter\n",
    "    counter += 1\n",
    "    model_file = open(join(model_folder, list1[counter]), 'rb')\n",
    "    ib1.value = model_file.read()\n",
    "    h1.value = list1[counter]\n",
    "    question_file = open(join(spurious_folder, list2[counter]), 'rb')\n",
    "    ib2.value = question_file.read()\n",
    "    h2.value = list2_title[counter]\n",
    "    validation_choice.value = None\n",
    "    comment.value = ''\n",
    "                       \n",
    "hbox_layout = widgets.Layout()\n",
    "hbox_layout.width = '100%'\n",
    "hbox_layout.justify_content = 'space-around'\n",
    "image_margin = '0 0 0 0'\n",
    "\n",
    "boxes = []\n",
    "\n",
    "model_file = open(join(model_folder, list1[counter]), 'rb')\n",
    "h1 = widgets.HTML(value=list1[counter])\n",
    "ib1 = widgets.Image(value=model_file.read())\n",
    "ib1.layout.object_fit = 'contain'\n",
    "ib1.layout.margin = image_margin\n",
    "boxb1 = widgets.Box()\n",
    "boxb1.layout = green_box_layout\n",
    "boxb1.children = [ib1]\n",
    "vb1 = widgets.VBox()\n",
    "vb1.layout.align_items = 'center'\n",
    "vb1.children = [h1, boxb1]\n",
    "boxes.append(vb1)\n",
    "\n",
    "question_file = open(join(spurious_folder, list2[counter]), 'rb')\n",
    "h2 = widgets.HTML(value=list2_title[counter])\n",
    "ib2 = widgets.Image(value=question_file.read())\n",
    "ib2.layout.object_fit = 'contain'\n",
    "ib2.layout.margin = image_margin\n",
    "boxb2 = widgets.Box()\n",
    "boxb2.layout = green_box_layout\n",
    "boxb2.children = [ib2]\n",
    "validation_choice = widgets.RadioButtons(\n",
    "    options=[('Keep the red elements', 'Keep'), ('Delete the red elements', 'Delete')],\n",
    "    value=None,\n",
    "    layout={'width': 'max-content'}, # If the items' names are long\n",
    "    #description='Pizza topping:',\n",
    "    disabled=False\n",
    ")\n",
    "comment = widgets.Textarea(description='Comment:', placeholder='leave your comment here')\n",
    "button_next = widgets.Button(description='Next', tooltip='Next question', style={'description_width': 'initial'})\n",
    "button_next.on_click(on_button_next_clicked)\n",
    "\n",
    "\n",
    "vb2 = widgets.VBox()\n",
    "vb2.layout.align_items = 'center'\n",
    "vb2.children = [h2, boxb2, validation_choice, comment, button_next]\n",
    "boxes.append(vb2)\n",
    "\n",
    "vb = widgets.VBox()\n",
    "h = widgets.HTML(value='<{size}>Validation of derivations suspected to be false (in red)</{size}>'.format(size='h2'))\n",
    "vb.layout.align_items = 'center'\n",
    "hb = widgets.HBox()\n",
    "hb.layout = hbox_layout\n",
    "hb.children = boxes"
   ]
  },
  {
   "cell_type": "code",
   "execution_count": 4,
   "id": "5edeb43f",
   "metadata": {},
   "outputs": [
    {
     "data": {
      "application/vnd.jupyter.widget-view+json": {
       "model_id": "b5afe7696c83499bbdf9cb41c37db0b4",
       "version_major": 2,
       "version_minor": 0
      },
      "text/plain": [
       "VBox(children=(HTML(value='<h4>Examples of <code>object_fit</code> with large image</h4>'), HBox(children=(VBo…"
      ]
     },
     "metadata": {},
     "output_type": "display_data"
    }
   ],
   "source": [
    "vb.children = [h, hb]\n",
    "display(vb)"
   ]
  },
  {
   "cell_type": "code",
   "execution_count": null,
   "id": "6320aeba",
   "metadata": {},
   "outputs": [],
   "source": []
  }
 ],
 "metadata": {
  "kernelspec": {
   "display_name": "Python 3 (ipykernel)",
   "language": "python",
   "name": "python3"
  },
  "language_info": {
   "codemirror_mode": {
    "name": "ipython",
    "version": 3
   },
   "file_extension": ".py",
   "mimetype": "text/x-python",
   "name": "python",
   "nbconvert_exporter": "python",
   "pygments_lexer": "ipython3",
   "version": "3.8.10"
  }
 },
 "nbformat": 4,
 "nbformat_minor": 5
}
