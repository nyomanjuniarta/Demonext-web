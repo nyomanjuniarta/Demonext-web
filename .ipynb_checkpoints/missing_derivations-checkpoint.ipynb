{
 "cells": [
  {
   "cell_type": "code",
   "execution_count": 1,
   "id": "4aa728ef",
   "metadata": {},
   "outputs": [],
   "source": [
    "import warnings\n",
    "warnings.filterwarnings('ignore')\n",
    "import codecs\n",
    "import base64\n",
    "import hashlib\n",
    "import ipywidgets as widgets\n",
    "import time\n",
    "from typing import Callable\n",
    "from os.path import isfile, join\n",
    "from IPython.display import HTML, display, clear_output"
   ]
  },
  {
   "cell_type": "code",
   "execution_count": null,
   "id": "ac7221e7",
   "metadata": {},
   "outputs": [],
   "source": [
    "#!jupyter nbextension enable --py widgetsnbextension --sys-prefix\n",
    "#!jupyter serverextension enable voila --sys-prefix"
   ]
  },
  {
   "cell_type": "code",
   "execution_count": 18,
   "id": "c7abce33",
   "metadata": {},
   "outputs": [],
   "source": [
    "output = widgets.Output()\n",
    "list1 = ['F00000 baisser.png', 'F00001 abandonner.png']\n",
    "list2 = ['F00002 abattre.png', 'F00003 abluer.png']\n",
    "graph_folder = 'graph_visualization'\n",
    "counter = 0\n",
    "\n",
    "model_file = open(join(graph_folder, list1[counter]), 'rb')\n",
    "model_image = widgets.Image(value=model_file.read(), width='300', height='300')\n",
    "model_label = widgets.Label(value=list1[counter],style={'description_width': 'initial'})\n",
    "\n",
    "question_file = open(join(graph_folder, list2[counter]), 'rb')\n",
    "question_image = widgets.Image(value=question_file.read(), width='300', height='300')\n",
    "question_label = widgets.Label(value=list2[counter],style={'description_width': 'initial'})\n",
    "                       \n",
    "def on_button_next_clicked(event):\n",
    "    global counter\n",
    "    counter += 1\n",
    "    model_file = open(join(graph_folder, list1[counter]), 'rb')\n",
    "    model_image.value = model_file.read()\n",
    "    model_label.value = list1[counter]\n",
    "    question_file = open(join(graph_folder, list2[counter]), 'rb')\n",
    "    question_image.value = question_file.read()\n",
    "    question_label.value = list2[counter]\n",
    "                       \n",
    "button_next = widgets.Button(description='Next', tooltip='Next question', style={'description_width': 'initial'})\n",
    "button_next.on_click(on_button_next_clicked)"
   ]
  },
  {
   "cell_type": "code",
   "execution_count": 19,
   "id": "e3647ab1",
   "metadata": {},
   "outputs": [
    {
     "data": {
      "application/vnd.jupyter.widget-view+json": {
       "model_id": "7c5d2c5ecdfc4d5583d37a8853a248c6",
       "version_major": 2,
       "version_minor": 0
      },
      "text/plain": [
       "HBox(children=(VBox(children=(Label(value='F00000 baisser.png', style=DescriptionStyle(description_width='init…"
      ]
     },
     "metadata": {},
     "output_type": "display_data"
    }
   ],
   "source": [
    "vbox_model = widgets.VBox([model_label, model_image])\n",
    "vbox_question = widgets.VBox([question_label, question_image, button_next])\n",
    "page = widgets.HBox([vbox_model, vbox_question])\n",
    "display(page)"
   ]
  },
  {
   "cell_type": "code",
   "execution_count": null,
   "id": "6320aeba",
   "metadata": {},
   "outputs": [],
   "source": []
  }
 ],
 "metadata": {
  "kernelspec": {
   "display_name": "Python 3 (ipykernel)",
   "language": "python",
   "name": "python3"
  },
  "language_info": {
   "codemirror_mode": {
    "name": "ipython",
    "version": 3
   },
   "file_extension": ".py",
   "mimetype": "text/x-python",
   "name": "python",
   "nbconvert_exporter": "python",
   "pygments_lexer": "ipython3",
   "version": "3.8.10"
  }
 },
 "nbformat": 4,
 "nbformat_minor": 5
}
