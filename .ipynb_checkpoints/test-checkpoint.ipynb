{
 "cells": [
  {
   "cell_type": "code",
   "execution_count": null,
   "id": "f7e2a1b7",
   "metadata": {},
   "outputs": [],
   "source": [
    "model_file = open(join(graph_folder, list1[counter]), 'rb')\n",
    "model_image = widgets.Image(value=model_file.read(), width='300', height='300')\n",
    "model_label = widgets.Label(value=list1[counter],style={'description_width': 'initial'})\n",
    "\n",
    "question_file = open(join(graph_folder, list2[counter]), 'rb')\n",
    "question_image = widgets.Image(value=question_file.read(), width='300', height='300')\n",
    "question_label = widgets.Label(value=list2[counter],style={'description_width': 'initial'})\n",
    "                       \n",
    "def on_button_next_clicked(event):\n",
    "    global counter\n",
    "    counter += 1\n",
    "    model_file = open(join(graph_folder, list1[counter]), 'rb')\n",
    "    model_image.value = model_file.read()\n",
    "    model_label.value = list1[counter]\n",
    "    question_file = open(join(graph_folder, list2[counter]), 'rb')\n",
    "    question_image.value = question_file.read()\n",
    "    question_label.value = list2[counter]\n",
    "                       \n",
    "button_next = widgets.Button(description='Next', tooltip='Next question', style={'description_width': 'initial'})\n",
    "button_next.on_click(on_button_next_clicked)\n",
    "vbox_model = widgets.VBox([model_label, model_image])\n",
    "vbox_question = widgets.VBox([question_label, question_image, button_next])\n",
    "page = widgets.HBox([vbox_model, vbox_question])\n",
    "display(page)"
   ]
  }
 ],
 "metadata": {
  "kernelspec": {
   "display_name": "Python 3 (ipykernel)",
   "language": "python",
   "name": "python3"
  },
  "language_info": {
   "codemirror_mode": {
    "name": "ipython",
    "version": 3
   },
   "file_extension": ".py",
   "mimetype": "text/x-python",
   "name": "python",
   "nbconvert_exporter": "python",
   "pygments_lexer": "ipython3",
   "version": "3.8.10"
  }
 },
 "nbformat": 4,
 "nbformat_minor": 5
}
