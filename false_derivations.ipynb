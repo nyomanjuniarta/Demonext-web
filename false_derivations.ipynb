{
 "cells": [
  {
   "cell_type": "code",
   "execution_count": null,
   "id": "ac7221e7",
   "metadata": {},
   "outputs": [],
   "source": [
    "#!jupyter nbextension enable --py widgetsnbextension --sys-prefix\n",
    "#!jupyter serverextension enable voila --sys-prefix"
   ]
  },
  {
   "cell_type": "code",
   "execution_count": 1,
   "id": "4aa728ef",
   "metadata": {},
   "outputs": [],
   "source": [
    "import warnings\n",
    "warnings.filterwarnings('ignore')\n",
    "import codecs\n",
    "import base64\n",
    "import hashlib\n",
    "import ipywidgets as widgets\n",
    "import time\n",
    "from typing import Callable\n",
    "from os.path import isfile, join\n",
    "from IPython.display import HTML, display, clear_output"
   ]
  },
  {
   "cell_type": "code",
   "execution_count": 2,
   "id": "d79b8dc6",
   "metadata": {},
   "outputs": [],
   "source": [
    "output = widgets.Output()\n",
    "list1 = ['F03881-035 louver.png', 'F00001 abandonner.png']\n",
    "list2 = ['F03829-18 remémorer.png', 'F00003 abluer.png']\n",
    "graph_folder = 'graph_visualization'\n",
    "counter = 0"
   ]
  },
  {
   "cell_type": "code",
   "execution_count": 4,
   "id": "e31bf7f6",
   "metadata": {},
   "outputs": [
    {
     "data": {
      "application/vnd.jupyter.widget-view+json": {
       "model_id": "0a3471e9772840f0afb0b27d592ef63b",
       "version_major": 2,
       "version_minor": 0
      },
      "text/plain": [
       "VBox(children=(HTML(value='<h4>Examples of <code>object_fit</code> with large image</h4>'), HBox(children=(VBo…"
      ]
     },
     "metadata": {},
     "output_type": "display_data"
    }
   ],
   "source": [
    "green_box_layout = widgets.Layout()\n",
    "green_box_layout.width = '50 px'\n",
    "green_box_layout.height = '100 px'\n",
    "green_box_layout.border = '2px solid'\n",
    "\n",
    "def on_button_next_clicked(event):\n",
    "    global counter\n",
    "    counter += 1\n",
    "    model_file = open(join(graph_folder, list1[counter]), 'rb')\n",
    "    ib1.value = model_file.read()\n",
    "    h1.value = list1[counter]\n",
    "    question_file = open(join(graph_folder, list2[counter]), 'rb')\n",
    "    ib2.value = question_file.read()\n",
    "    h2.value = list2[counter]\n",
    "                       \n",
    "hbox_layout = widgets.Layout()\n",
    "hbox_layout.width = '100%'\n",
    "hbox_layout.justify_content = 'space-around'\n",
    "image_margin = '0 0 0 0'\n",
    "\n",
    "boxes = []\n",
    "\n",
    "model_file = open(join(graph_folder, list1[counter]), 'rb')\n",
    "h1 = widgets.HTML(value=list1[counter])\n",
    "ib1 = widgets.Image(value=model_file.read())\n",
    "ib1.layout.object_fit = 'contain'\n",
    "ib1.layout.margin = image_margin\n",
    "boxb1 = widgets.Box()\n",
    "boxb1.layout = green_box_layout\n",
    "boxb1.children = [ib1]\n",
    "vb1 = widgets.VBox()\n",
    "vb1.layout.align_items = 'center'\n",
    "vb1.children = [h1, boxb1]\n",
    "boxes.append(vb1)\n",
    "\n",
    "question_file = open(join(graph_folder, list2[counter]), 'rb')\n",
    "h2 = widgets.HTML(value=list2[counter])\n",
    "ib2 = widgets.Image(value=question_file.read())\n",
    "ib2.layout.object_fit = 'contain'\n",
    "ib2.layout.margin = image_margin\n",
    "boxb2 = widgets.Box()\n",
    "boxb2.layout = green_box_layout\n",
    "boxb2.children = [ib2]\n",
    "button_next = widgets.Button(description='Next', tooltip='Next question', style={'description_width': 'initial'})\n",
    "button_next.on_click(on_button_next_clicked)\n",
    "vb2 = widgets.VBox()\n",
    "vb2.layout.align_items = 'center'\n",
    "vb2.children = [h2, boxb2, button_next]\n",
    "boxes.append(vb2)\n",
    "\n",
    "vb = widgets.VBox()\n",
    "h = widgets.HTML(value='<{size}>Examples of <code>object_fit</code> with large image</{size}>'.format(size='h4'))\n",
    "vb.layout.align_items = 'center'\n",
    "hb = widgets.HBox()\n",
    "hb.layout = hbox_layout\n",
    "hb.children = boxes\n",
    "\n",
    "vb.children = [h, hb]\n",
    "display(vb)"
   ]
  },
  {
   "cell_type": "code",
   "execution_count": null,
   "id": "c7abce33",
   "metadata": {},
   "outputs": [],
   "source": [
    "\n",
    "\n",
    "model_file = open(join(graph_folder, list1[counter]), 'rb')\n",
    "model_image = widgets.Image(value=model_file.read(), width='300', height='300')\n",
    "model_label = widgets.Label(value=list1[counter],style={'description_width': 'initial'})\n",
    "\n",
    "question_file = open(join(graph_folder, list2[counter]), 'rb')\n",
    "question_image = widgets.Image(value=question_file.read(), width='300', height='300')\n",
    "question_label = widgets.Label(value=list2[counter],style={'description_width': 'initial'})\n",
    "                       \n",
    "def on_button_next_clicked(event):\n",
    "    global counter\n",
    "    counter += 1\n",
    "    model_file = open(join(graph_folder, list1[counter]), 'rb')\n",
    "    model_image.value = model_file.read()\n",
    "    model_label.value = list1[counter]\n",
    "    question_file = open(join(graph_folder, list2[counter]), 'rb')\n",
    "    question_image.value = question_file.read()\n",
    "    question_label.value = list2[counter]\n",
    "                       \n",
    "button_next = widgets.Button(description='Next', tooltip='Next question', style={'description_width': 'initial'})\n",
    "button_next.on_click(on_button_next_clicked)"
   ]
  },
  {
   "cell_type": "code",
   "execution_count": null,
   "id": "e3647ab1",
   "metadata": {},
   "outputs": [],
   "source": [
    "#vbox_model = widgets.VBox([model_label, model_image])\n",
    "#vbox_question = widgets.VBox([question_label, question_image, button_next])\n",
    "#page = widgets.HBox([vbox_model, vbox_question])\n",
    "#display(page)"
   ]
  },
  {
   "cell_type": "code",
   "execution_count": null,
   "id": "6320aeba",
   "metadata": {},
   "outputs": [],
   "source": []
  }
 ],
 "metadata": {
  "kernelspec": {
   "display_name": "Python 3 (ipykernel)",
   "language": "python",
   "name": "python3"
  },
  "language_info": {
   "codemirror_mode": {
    "name": "ipython",
    "version": 3
   },
   "file_extension": ".py",
   "mimetype": "text/x-python",
   "name": "python",
   "nbconvert_exporter": "python",
   "pygments_lexer": "ipython3",
   "version": "3.8.10"
  }
 },
 "nbformat": 4,
 "nbformat_minor": 5
}
