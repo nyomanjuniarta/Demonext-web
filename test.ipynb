{
 "cells": [
  {
   "cell_type": "code",
   "execution_count": null,
   "id": "f7e2a1b7",
   "metadata": {},
   "outputs": [],
   "source": [
    "model_file = open(join(graph_folder, list1[counter]), 'rb')\n",
    "model_image = widgets.Image(value=model_file.read(), width='300', height='300')\n",
    "model_label = widgets.Label(value=list1[counter],style={'description_width': 'initial'})\n",
    "\n",
    "question_file = open(join(graph_folder, list2[counter]), 'rb')\n",
    "question_image = widgets.Image(value=question_file.read(), width='300', height='300')\n",
    "question_label = widgets.Label(value=list2[counter],style={'description_width': 'initial'})\n",
    "                       \n",
    "def on_button_next_clicked(event):\n",
    "    global counter\n",
    "    counter += 1\n",
    "    model_file = open(join(graph_folder, list1[counter]), 'rb')\n",
    "    model_image.value = model_file.read()\n",
    "    model_label.value = list1[counter]\n",
    "    question_file = open(join(graph_folder, list2[counter]), 'rb')\n",
    "    question_image.value = question_file.read()\n",
    "    question_label.value = list2[counter]\n",
    "                       \n",
    "button_next = widgets.Button(description='Next', tooltip='Next question', style={'description_width': 'initial'})\n",
    "button_next.on_click(on_button_next_clicked)\n",
    "vbox_model = widgets.VBox([model_label, model_image])\n",
    "vbox_question = widgets.VBox([question_label, question_image, button_next])\n",
    "page = widgets.HBox([vbox_model, vbox_question])\n",
    "display(page)"
   ]
  },
  {
   "cell_type": "code",
   "execution_count": 4,
   "id": "2eec03b2",
   "metadata": {},
   "outputs": [
    {
     "ename": "ValueError",
     "evalue": "invalid literal for int() with base 10: '3a4'",
     "output_type": "error",
     "traceback": [
      "\u001b[1;31m---------------------------------------------------------------------------\u001b[0m",
      "\u001b[1;31mValueError\u001b[0m                                Traceback (most recent call last)",
      "\u001b[1;32m~\\AppData\\Local\\Temp/ipykernel_3112/3711309484.py\u001b[0m in \u001b[0;36m<module>\u001b[1;34m\u001b[0m\n\u001b[1;32m----> 1\u001b[1;33m \u001b[0mint\u001b[0m\u001b[1;33m(\u001b[0m\u001b[1;34m'3a4'\u001b[0m\u001b[1;33m)\u001b[0m\u001b[1;33m\u001b[0m\u001b[1;33m\u001b[0m\u001b[0m\n\u001b[0m",
      "\u001b[1;31mValueError\u001b[0m: invalid literal for int() with base 10: '3a4'"
     ]
    }
   ],
   "source": [
    "int('3a4')"
   ]
  },
  {
   "cell_type": "code",
   "execution_count": 2,
   "id": "f9edca9a",
   "metadata": {},
   "outputs": [
    {
     "data": {
      "text/plain": [
       "datetime.datetime(2021, 12, 1, 14, 43, 2, 577777)"
      ]
     },
     "execution_count": 2,
     "metadata": {},
     "output_type": "execute_result"
    }
   ],
   "source": [
    "from datetime import datetime\n",
    "\n",
    "now = datetime.now()\n",
    "now"
   ]
  },
  {
   "cell_type": "code",
   "execution_count": 5,
   "id": "844d58b8",
   "metadata": {},
   "outputs": [
    {
     "data": {
      "text/plain": [
       "'2021-12-01 14:43:02'"
      ]
     },
     "execution_count": 5,
     "metadata": {},
     "output_type": "execute_result"
    }
   ],
   "source": [
    "now.strftime(\"%Y-%m-%d %H:%M:%S\")"
   ]
  },
  {
   "cell_type": "code",
   "execution_count": null,
   "id": "ebc87e09",
   "metadata": {},
   "outputs": [],
   "source": []
  }
 ],
 "metadata": {
  "kernelspec": {
   "display_name": "Python 3 (ipykernel)",
   "language": "python",
   "name": "python3"
  },
  "language_info": {
   "codemirror_mode": {
    "name": "ipython",
    "version": 3
   },
   "file_extension": ".py",
   "mimetype": "text/x-python",
   "name": "python",
   "nbconvert_exporter": "python",
   "pygments_lexer": "ipython3",
   "version": "3.8.10"
  }
 },
 "nbformat": 4,
 "nbformat_minor": 5
}
